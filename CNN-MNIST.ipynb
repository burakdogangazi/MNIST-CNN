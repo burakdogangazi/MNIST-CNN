{
 "cells": [
  {
   "cell_type": "code",
   "execution_count": 1,
   "id": "42df5ae9",
   "metadata": {},
   "outputs": [],
   "source": [
    "import torch\n",
    "import torch.nn as nn\n",
    "import torch.nn.functional as F\n",
    "from torch.utils.data import DataLoader\n",
    "from torchvision import datasets, transforms\n",
    "from torchvision.utils import make_grid\n",
    "\n",
    "import numpy as np\n",
    "import pandas as pd\n",
    "from sklearn.metrics import confusion_matrix\n",
    "import matplotlib.pyplot as plt\n",
    "\n",
    "%matplotlib inline"
   ]
  },
  {
   "cell_type": "code",
   "execution_count": 2,
   "id": "77f2546b",
   "metadata": {},
   "outputs": [],
   "source": [
    "transform = transforms.ToTensor()"
   ]
  },
  {
   "cell_type": "code",
   "execution_count": 3,
   "id": "c2dca346",
   "metadata": {},
   "outputs": [
    {
     "name": "stderr",
     "output_type": "stream",
     "text": [
      "C:\\Users\\burak\\anaconda3\\envs\\pytorchenv\\lib\\site-packages\\torchvision\\datasets\\mnist.py:498: UserWarning: The given NumPy array is not writeable, and PyTorch does not support non-writeable tensors. This means you can write to the underlying (supposedly non-writeable) NumPy array using the tensor. You may want to copy the array to protect its data or make it writeable before converting it to a tensor. This type of warning will be suppressed for the rest of this program. (Triggered internally at  ..\\torch\\csrc\\utils\\tensor_numpy.cpp:180.)\n",
      "  return torch.from_numpy(parsed.astype(m[2], copy=False)).view(*s)\n"
     ]
    }
   ],
   "source": [
    "train_data = datasets.MNIST(root='../Data',train=True,download=True,transform=transform)"
   ]
  },
  {
   "cell_type": "code",
   "execution_count": 4,
   "id": "d5b0d02f",
   "metadata": {},
   "outputs": [],
   "source": [
    "test_data = datasets.MNIST(root='../Data',train=False,download=True,transform=transform)"
   ]
  },
  {
   "cell_type": "code",
   "execution_count": 5,
   "id": "9983c257",
   "metadata": {},
   "outputs": [
    {
     "data": {
      "text/plain": [
       "Dataset MNIST\n",
       "    Number of datapoints: 60000\n",
       "    Root location: ../Data\n",
       "    Split: Train\n",
       "    StandardTransform\n",
       "Transform: ToTensor()"
      ]
     },
     "execution_count": 5,
     "metadata": {},
     "output_type": "execute_result"
    }
   ],
   "source": [
    "train_data"
   ]
  },
  {
   "cell_type": "code",
   "execution_count": 6,
   "id": "6f01592c",
   "metadata": {},
   "outputs": [
    {
     "data": {
      "text/plain": [
       "Dataset MNIST\n",
       "    Number of datapoints: 10000\n",
       "    Root location: ../Data\n",
       "    Split: Test\n",
       "    StandardTransform\n",
       "Transform: ToTensor()"
      ]
     },
     "execution_count": 6,
     "metadata": {},
     "output_type": "execute_result"
    }
   ],
   "source": [
    "test_data"
   ]
  },
  {
   "cell_type": "code",
   "execution_count": 7,
   "id": "ad44fdc4",
   "metadata": {},
   "outputs": [],
   "source": [
    "train_loader = DataLoader(train_data,batch_size=10,shuffle=True)\n",
    "test_loader = DataLoader(test_data,batch_size=10, shuffle=False)"
   ]
  },
  {
   "cell_type": "code",
   "execution_count": 8,
   "id": "3e87a4ee",
   "metadata": {},
   "outputs": [],
   "source": [
    "# 1 Color Channel, 6 Filters (Output Channels), 3by3 Kernel, Stride=1\n",
    "conv1 = nn.Conv2d(1,6,3,1)\n",
    "# 1 color channel --> 6 filters output channel feature extraction --> 3by3 3x3 kernel(matrix) size --> 1 stride step size\n",
    "\n",
    "# ---> 6 filters --> pooling -->conv2\n",
    "\n",
    "\n",
    "# 6 input filters Conv1, 16 filters(output channel), 3x3, stride = 1\n",
    "conv2 = nn.Conv2d(6,16,3,1)  "
   ]
  },
  {
   "cell_type": "code",
   "execution_count": 9,
   "id": "24d23374",
   "metadata": {},
   "outputs": [],
   "source": [
    "for i ,(X_train,y_train) in enumerate(train_data):\n",
    "    break"
   ]
  },
  {
   "cell_type": "code",
   "execution_count": 10,
   "id": "36e15374",
   "metadata": {},
   "outputs": [
    {
     "data": {
      "text/plain": [
       "torch.Size([1, 28, 28])"
      ]
     },
     "execution_count": 10,
     "metadata": {},
     "output_type": "execute_result"
    }
   ],
   "source": [
    "X_train.shape "
   ]
  },
  {
   "cell_type": "code",
   "execution_count": 15,
   "id": "1f3db357",
   "metadata": {},
   "outputs": [],
   "source": [
    "x = X_train.view(1,1,28,28) # ---> 4D batch(batch of 1 image)"
   ]
  },
  {
   "cell_type": "code",
   "execution_count": 16,
   "id": "aa47740b",
   "metadata": {},
   "outputs": [],
   "source": [
    "x = F.relu(conv1(x))"
   ]
  },
  {
   "cell_type": "code",
   "execution_count": 17,
   "id": "0ecd15c1",
   "metadata": {},
   "outputs": [
    {
     "data": {
      "text/plain": [
       "torch.Size([1, 6, 26, 26])"
      ]
     },
     "execution_count": 17,
     "metadata": {},
     "output_type": "execute_result"
    }
   ],
   "source": [
    "x.shape # the main issue is 1 grayscale 6 output but why is there 26 26 instead of 28 28\n",
    "# because with filters 3x3 matrix we can lose borders(padding = 0) "
   ]
  },
  {
   "cell_type": "code",
   "execution_count": 18,
   "id": "656eaa7f",
   "metadata": {},
   "outputs": [],
   "source": [
    "x = F.max_pool2d(x,2,2) # kernel size and stride"
   ]
  },
  {
   "cell_type": "code",
   "execution_count": 19,
   "id": "d5c3d6fd",
   "metadata": {},
   "outputs": [
    {
     "data": {
      "text/plain": [
       "torch.Size([1, 6, 13, 13])"
      ]
     },
     "execution_count": 19,
     "metadata": {},
     "output_type": "execute_result"
    }
   ],
   "source": [
    "x.shape # with 2 stride we are cutting half the image with pooling"
   ]
  },
  {
   "cell_type": "code",
   "execution_count": 20,
   "id": "be3839ff",
   "metadata": {},
   "outputs": [],
   "source": [
    "x = F.relu(conv2(x))"
   ]
  },
  {
   "cell_type": "code",
   "execution_count": 21,
   "id": "594301f0",
   "metadata": {},
   "outputs": [
    {
     "data": {
      "text/plain": [
       "torch.Size([1, 16, 11, 11])"
      ]
     },
     "execution_count": 21,
     "metadata": {},
     "output_type": "execute_result"
    }
   ],
   "source": [
    "x.shape"
   ]
  },
  {
   "cell_type": "code",
   "execution_count": 22,
   "id": "7f2bafd3",
   "metadata": {},
   "outputs": [],
   "source": [
    "x = F.max_pool2d(x,2,2)"
   ]
  },
  {
   "cell_type": "code",
   "execution_count": 23,
   "id": "9ed9f1cc",
   "metadata": {},
   "outputs": [
    {
     "data": {
      "text/plain": [
       "torch.Size([1, 16, 5, 5])"
      ]
     },
     "execution_count": 23,
     "metadata": {},
     "output_type": "execute_result"
    }
   ],
   "source": [
    "x.shape"
   ]
  },
  {
   "cell_type": "code",
   "execution_count": 25,
   "id": "db9541ad",
   "metadata": {},
   "outputs": [
    {
     "data": {
      "text/plain": [
       "torch.Size([1, 400])"
      ]
     },
     "execution_count": 25,
     "metadata": {},
     "output_type": "execute_result"
    }
   ],
   "source": [
    "x.view(-1,16*5*5).shape"
   ]
  },
  {
   "cell_type": "code",
   "execution_count": 26,
   "id": "9162d3a8",
   "metadata": {},
   "outputs": [],
   "source": [
    "class ConvolutionalNetwork(nn.Module):\n",
    "    def __init__(self):\n",
    "        super().__init__()\n",
    "        self.conv1 = nn.Conv2d(1,6,3,1)\n",
    "        self.conv2 = nn.Conv2d(6,16,3,1)\n",
    "        self.fc1 = nn.Linear(5*5*16,120)\n",
    "        self.fc2 = nn.Linear(120,84)\n",
    "        self.fc3 = nn.Linear(84,10)\n",
    "        \n",
    "    def forward(self,X):\n",
    "        X = F.relu(self.conv1(X))\n",
    "        X = F.max_pool2d(X,2,2)\n",
    "        X = F.relu(self.conv2(X))\n",
    "        X = F.max_pool2d(X,2,2)\n",
    "        X = X.view(-1,16*5*5)\n",
    "        X = F.relu(self.fc1(X))\n",
    "        X = F.relu(self.fc2(X))\n",
    "        X = self.fc3(X)\n",
    "        \n",
    "        return F.log_softmax(X,dim=1)\n",
    "        \n",
    "        "
   ]
  },
  {
   "cell_type": "code",
   "execution_count": 28,
   "id": "5e28ca7e",
   "metadata": {},
   "outputs": [
    {
     "data": {
      "text/plain": [
       "ConvolutionalNetwork(\n",
       "  (conv1): Conv2d(1, 6, kernel_size=(3, 3), stride=(1, 1))\n",
       "  (conv2): Conv2d(6, 16, kernel_size=(3, 3), stride=(1, 1))\n",
       "  (fc1): Linear(in_features=400, out_features=120, bias=True)\n",
       "  (fc2): Linear(in_features=120, out_features=84, bias=True)\n",
       "  (fc3): Linear(in_features=84, out_features=10, bias=True)\n",
       ")"
      ]
     },
     "execution_count": 28,
     "metadata": {},
     "output_type": "execute_result"
    }
   ],
   "source": [
    "torch.manual_seed(101)\n",
    "model = ConvolutionalNetwork()\n",
    "model"
   ]
  },
  {
   "cell_type": "code",
   "execution_count": 29,
   "id": "8320f88c",
   "metadata": {},
   "outputs": [
    {
     "name": "stdout",
     "output_type": "stream",
     "text": [
      "54\n",
      "6\n",
      "864\n",
      "16\n",
      "48000\n",
      "120\n",
      "10080\n",
      "84\n",
      "840\n",
      "10\n"
     ]
    }
   ],
   "source": [
    "for param in model.parameters():\n",
    "    print(param.numel())"
   ]
  },
  {
   "cell_type": "code",
   "execution_count": 30,
   "id": "180c6b25",
   "metadata": {},
   "outputs": [],
   "source": [
    "criterion = nn.CrossEntropyLoss()\n",
    "optimizer = torch.optim.Adam(model.parameters(),lr=0.001)"
   ]
  },
  {
   "cell_type": "code",
   "execution_count": 31,
   "id": "d4ce7267",
   "metadata": {},
   "outputs": [
    {
     "name": "stdout",
     "output_type": "stream",
     "text": [
      "epoch:  0  batch:  600 [  6000/60000]  loss: 0.27711093  accuracy:  74.583%\n",
      "epoch:  0  batch: 1200 [ 12000/60000]  loss: 0.05912347  accuracy:  83.725%\n",
      "epoch:  0  batch: 1800 [ 18000/60000]  loss: 0.17079256  accuracy:  87.467%\n",
      "epoch:  0  batch: 2400 [ 24000/60000]  loss: 0.13591507  accuracy:  89.654%\n",
      "epoch:  0  batch: 3000 [ 30000/60000]  loss: 0.01328905  accuracy:  91.023%\n",
      "epoch:  0  batch: 3600 [ 36000/60000]  loss: 0.01176713  accuracy:  91.906%\n",
      "epoch:  0  batch: 4200 [ 42000/60000]  loss: 0.00790256  accuracy:  92.605%\n",
      "epoch:  0  batch: 4800 [ 48000/60000]  loss: 0.00256785  accuracy:  93.167%\n",
      "epoch:  0  batch: 5400 [ 54000/60000]  loss: 0.00175660  accuracy:  93.639%\n",
      "epoch:  0  batch: 6000 [ 60000/60000]  loss: 0.00351464  accuracy:  94.055%\n",
      "epoch:  1  batch:  600 [  6000/60000]  loss: 0.04854865  accuracy:  97.817%\n",
      "epoch:  1  batch: 1200 [ 12000/60000]  loss: 0.06619741  accuracy:  97.967%\n",
      "epoch:  1  batch: 1800 [ 18000/60000]  loss: 0.00453133  accuracy:  98.022%\n",
      "epoch:  1  batch: 2400 [ 24000/60000]  loss: 0.00518245  accuracy:  98.062%\n",
      "epoch:  1  batch: 3000 [ 30000/60000]  loss: 0.05065189  accuracy:  98.070%\n",
      "epoch:  1  batch: 3600 [ 36000/60000]  loss: 0.00389110  accuracy:  98.086%\n",
      "epoch:  1  batch: 4200 [ 42000/60000]  loss: 0.27624938  accuracy:  98.098%\n",
      "epoch:  1  batch: 4800 [ 48000/60000]  loss: 0.00120896  accuracy:  98.129%\n",
      "epoch:  1  batch: 5400 [ 54000/60000]  loss: 0.10462479  accuracy:  98.137%\n",
      "epoch:  1  batch: 6000 [ 60000/60000]  loss: 0.01390559  accuracy:  98.152%\n",
      "epoch:  2  batch:  600 [  6000/60000]  loss: 0.11641028  accuracy:  98.633%\n",
      "epoch:  2  batch: 1200 [ 12000/60000]  loss: 0.00082919  accuracy:  98.592%\n",
      "epoch:  2  batch: 1800 [ 18000/60000]  loss: 0.00341106  accuracy:  98.633%\n",
      "epoch:  2  batch: 2400 [ 24000/60000]  loss: 0.37213644  accuracy:  98.638%\n",
      "epoch:  2  batch: 3000 [ 30000/60000]  loss: 0.18542790  accuracy:  98.647%\n",
      "epoch:  2  batch: 3600 [ 36000/60000]  loss: 0.00333343  accuracy:  98.636%\n",
      "epoch:  2  batch: 4200 [ 42000/60000]  loss: 0.03022731  accuracy:  98.629%\n",
      "epoch:  2  batch: 4800 [ 48000/60000]  loss: 0.05640123  accuracy:  98.633%\n",
      "epoch:  2  batch: 5400 [ 54000/60000]  loss: 0.00068672  accuracy:  98.643%\n",
      "epoch:  2  batch: 6000 [ 60000/60000]  loss: 0.00026816  accuracy:  98.653%\n",
      "epoch:  3  batch:  600 [  6000/60000]  loss: 0.11134611  accuracy:  99.017%\n",
      "epoch:  3  batch: 1200 [ 12000/60000]  loss: 0.00841346  accuracy:  99.042%\n",
      "epoch:  3  batch: 1800 [ 18000/60000]  loss: 0.00124847  accuracy:  99.011%\n",
      "epoch:  3  batch: 2400 [ 24000/60000]  loss: 0.00086801  accuracy:  98.933%\n",
      "epoch:  3  batch: 3000 [ 30000/60000]  loss: 0.00078747  accuracy:  98.933%\n",
      "epoch:  3  batch: 3600 [ 36000/60000]  loss: 0.00559832  accuracy:  98.947%\n",
      "epoch:  3  batch: 4200 [ 42000/60000]  loss: 0.00222556  accuracy:  98.921%\n",
      "epoch:  3  batch: 4800 [ 48000/60000]  loss: 0.00005453  accuracy:  98.912%\n",
      "epoch:  3  batch: 5400 [ 54000/60000]  loss: 0.04603928  accuracy:  98.919%\n",
      "epoch:  3  batch: 6000 [ 60000/60000]  loss: 0.00466074  accuracy:  98.912%\n",
      "epoch:  4  batch:  600 [  6000/60000]  loss: 0.00151860  accuracy:  99.267%\n",
      "epoch:  4  batch: 1200 [ 12000/60000]  loss: 0.00023560  accuracy:  99.192%\n",
      "epoch:  4  batch: 1800 [ 18000/60000]  loss: 0.00324865  accuracy:  99.189%\n",
      "epoch:  4  batch: 2400 [ 24000/60000]  loss: 0.00195063  accuracy:  99.171%\n",
      "epoch:  4  batch: 3000 [ 30000/60000]  loss: 0.00134478  accuracy:  99.193%\n",
      "epoch:  4  batch: 3600 [ 36000/60000]  loss: 0.00287396  accuracy:  99.158%\n",
      "epoch:  4  batch: 4200 [ 42000/60000]  loss: 0.00014229  accuracy:  99.140%\n",
      "epoch:  4  batch: 4800 [ 48000/60000]  loss: 0.00049286  accuracy:  99.119%\n",
      "epoch:  4  batch: 5400 [ 54000/60000]  loss: 0.00043381  accuracy:  99.120%\n",
      "epoch:  4  batch: 6000 [ 60000/60000]  loss: 0.00007457  accuracy:  99.147%\n",
      "\n",
      "Duration: 164 seconds\n"
     ]
    }
   ],
   "source": [
    "import time\n",
    "start_time = time.time()\n",
    "\n",
    "epochs = 5\n",
    "train_losses = []\n",
    "test_losses = []\n",
    "train_correct = []\n",
    "test_correct = []\n",
    "\n",
    "for i in range(epochs):\n",
    "    trn_corr = 0\n",
    "    tst_corr = 0\n",
    "    \n",
    "    # Run the training batches\n",
    "    for b, (X_train, y_train) in enumerate(train_loader):\n",
    "        b+=1\n",
    "        \n",
    "        # Apply the model\n",
    "        y_pred = model(X_train)  # we don't flatten X-train here\n",
    "        loss = criterion(y_pred, y_train)\n",
    " \n",
    "        # Tally the number of correct predictions\n",
    "        predicted = torch.max(y_pred.data, 1)[1]\n",
    "        batch_corr = (predicted == y_train).sum()\n",
    "        trn_corr += batch_corr\n",
    "        \n",
    "        # Update parameters\n",
    "        optimizer.zero_grad()\n",
    "        loss.backward()\n",
    "        optimizer.step()\n",
    "        \n",
    "        # Print interim results\n",
    "        if b%600 == 0:\n",
    "            print(f'epoch: {i:2}  batch: {b:4} [{10*b:6}/60000]  loss: {loss.item():10.8f}  \\\n",
    "accuracy: {trn_corr.item()*100/(10*b):7.3f}%')\n",
    "        \n",
    "    train_losses.append(loss.item())\n",
    "    train_correct.append(trn_corr.item())\n",
    "        \n",
    "    # Run the testing batches\n",
    "    with torch.no_grad():\n",
    "        for b, (X_test, y_test) in enumerate(test_loader):\n",
    "\n",
    "            # Apply the model\n",
    "            y_val = model(X_test)\n",
    "\n",
    "            # Tally the number of correct predictions\n",
    "            predicted = torch.max(y_val.data, 1)[1] \n",
    "            tst_corr += (predicted == y_test).sum()\n",
    "            \n",
    "    loss = criterion(y_val, y_test)\n",
    "    test_losses.append(loss)\n",
    "    test_correct.append(tst_corr)\n",
    "        \n",
    "print(f'\\nDuration: {time.time() - start_time:.0f} seconds') # print the time elapsed        "
   ]
  },
  {
   "cell_type": "code",
   "execution_count": 33,
   "id": "82780f8f",
   "metadata": {},
   "outputs": [
    {
     "data": {
      "text/plain": [
       "<matplotlib.legend.Legend at 0x1d98b46dd00>"
      ]
     },
     "execution_count": 33,
     "metadata": {},
     "output_type": "execute_result"
    },
    {
     "data": {
      "image/png": "[encoded data removed]",
      "text/plain": [
       "<Figure size 432x288 with 1 Axes>"
      ]
     },
     "metadata": {
      "needs_background": "light"
     },
     "output_type": "display_data"
    }
   ],
   "source": [
    "plt.plot(train_losses,label=\"train loss\")\n",
    "plt.plot(test_losses,label=\"validation loss\")\n",
    "plt.title(\"Loss at epoch\")\n",
    "plt.legend()"
   ]
  },
  {
   "cell_type": "code",
   "execution_count": 34,
   "id": "a9c49b88",
   "metadata": {},
   "outputs": [
    {
     "data": {
      "image/png": "[encoded data removed]",
      "text/plain": [
       "<Figure size 432x288 with 1 Axes>"
      ]
     },
     "metadata": {
      "needs_background": "light"
     },
     "output_type": "display_data"
    }
   ],
   "source": [
    "plt.plot([t/600 for t in train_correct], label='training accuracy')\n",
    "plt.plot([t/100 for t in test_correct], label='validation accuracy')\n",
    "plt.title('Accuracy at the end of each epoch')\n",
    "plt.legend();"
   ]
  },
  {
   "cell_type": "markdown",
   "id": "852efc60",
   "metadata": {},
   "source": [
    "## Evaluate Test Data"
   ]
  },
  {
   "cell_type": "code",
   "execution_count": 35,
   "id": "6ea65537",
   "metadata": {},
   "outputs": [],
   "source": [
    "test_load_all = DataLoader(test_data, batch_size=10000, shuffle=False)"
   ]
  },
  {
   "cell_type": "code",
   "execution_count": 36,
   "id": "f13582fd",
   "metadata": {},
   "outputs": [
    {
     "name": "stdout",
     "output_type": "stream",
     "text": [
      "Test accuracy: 9857/10000 =  98.570%\n"
     ]
    }
   ],
   "source": [
    "with torch.no_grad():\n",
    "    correct = 0\n",
    "    for X_test, y_test in test_load_all:\n",
    "        y_val = model(X_test)  # we don't flatten the data this time\n",
    "        predicted = torch.max(y_val,1)[1]\n",
    "        correct += (predicted == y_test).sum()\n",
    "print(f'Test accuracy: {correct.item()}/{len(test_data)} = {correct.item()*100/(len(test_data)):7.3f}%')"
   ]
  },
  {
   "cell_type": "code",
   "execution_count": 37,
   "id": "ae6e2f95",
   "metadata": {},
   "outputs": [
    {
     "name": "stdout",
     "output_type": "stream",
     "text": [
      "[[   0    1    2    3    4    5    6    7    8    9]]\n",
      "\n",
      "[[ 976    0    0    2    0    3    4    1    4    1]\n",
      " [   0 1125    0    0    0    0    1    4    0    0]\n",
      " [   0    2 1024   10    2    0    0    9    2    2]\n",
      " [   0    0    0  989    0    7    0    1    2    1]\n",
      " [   0    0    0    0  966    0    2    0    0    2]\n",
      " [   0    1    0    3    0  880    4    1    3    5]\n",
      " [   2    3    1    0    5    1  946    0    1    1]\n",
      " [   1    0    3    1    0    1    0 1002    0    3]\n",
      " [   0    4    3    4    1    0    1    5  961    6]\n",
      " [   1    0    1    1    8    0    0    5    1  988]]\n"
     ]
    }
   ],
   "source": [
    "# print a row of values for reference\n",
    "np.set_printoptions(formatter=dict(int=lambda x: f'{x:4}'))\n",
    "print(np.arange(10).reshape(1,10))\n",
    "print()\n",
    "\n",
    "# print the confusion matrix\n",
    "print(confusion_matrix(predicted.view(-1), y_test.view(-1)))"
   ]
  },
  {
   "cell_type": "code",
   "execution_count": 38,
   "id": "286eb687",
   "metadata": {},
   "outputs": [
    {
     "data": {
      "text/plain": [
       "143"
      ]
     },
     "execution_count": 38,
     "metadata": {},
     "output_type": "execute_result"
    }
   ],
   "source": [
    "misses = np.array([])\n",
    "for i in range(len(predicted.view(-1))):\n",
    "    if predicted[i] != y_test[i]:\n",
    "        misses = np.append(misses,i).astype('int64')\n",
    "        \n",
    "# Display the number of misses\n",
    "len(misses)"
   ]
  },
  {
   "cell_type": "code",
   "execution_count": 39,
   "id": "3412ec42",
   "metadata": {},
   "outputs": [
    {
     "data": {
      "text/plain": [
       "array([  18,   62,  115,  247,  321,  340,  445,  582,  625,  646],\n",
       "      dtype=int64)"
      ]
     },
     "execution_count": 39,
     "metadata": {},
     "output_type": "execute_result"
    }
   ],
   "source": [
    "# Display the first 10 index positions\n",
    "misses[:10]"
   ]
  },
  {
   "cell_type": "code",
   "execution_count": 40,
   "id": "ee1ea176",
   "metadata": {},
   "outputs": [],
   "source": [
    "# Set up an iterator to feed batched rows\n",
    "r = 12   # row size\n",
    "row = iter(np.array_split(misses,len(misses)//r+1))"
   ]
  },
  {
   "cell_type": "code",
   "execution_count": 41,
   "id": "c921a33b",
   "metadata": {},
   "outputs": [
    {
     "name": "stdout",
     "output_type": "stream",
     "text": [
      "Index: [  18   62  115  247  321  340  445  582  625  646  674  846]\n",
      "Label: [   3    9    4    4    2    5    6    8    6    2    5    7]\n",
      "Guess: [   2    5    9    2    7    3    0    2    4    6    3    9]\n"
     ]
    },
    {
     "data": {
      "image/png": "[encoded data removed]",
      "text/plain": [
       "<Figure size 720x288 with 1 Axes>"
      ]
     },
     "metadata": {
      "needs_background": "light"
     },
     "output_type": "display_data"
    }
   ],
   "source": [
    "nextrow = next(row)\n",
    "print(\"Index:\", nextrow)\n",
    "print(\"Label:\", y_test.index_select(0,torch.tensor(nextrow)).numpy())\n",
    "print(\"Guess:\", predicted.index_select(0,torch.tensor(nextrow)).numpy())\n",
    "\n",
    "images = X_test.index_select(0,torch.tensor(nextrow))\n",
    "im = make_grid(images, nrow=r)\n",
    "plt.figure(figsize=(10,4))\n",
    "plt.imshow(np.transpose(im.numpy(), (1, 2, 0)));"
   ]
  },
  {
   "cell_type": "code",
   "execution_count": 42,
   "id": "28dda55d",
   "metadata": {},
   "outputs": [
    {
     "data": {
      "image/png": "[encoded data removed]",
      "text/plain": [
       "<Figure size 72x72 with 1 Axes>"
      ]
     },
     "metadata": {
      "needs_background": "light"
     },
     "output_type": "display_data"
    }
   ],
   "source": [
    "x = 2019\n",
    "plt.figure(figsize=(1,1))\n",
    "plt.imshow(test_data[x][0].reshape((28,28)), cmap=\"gist_yarg\");"
   ]
  },
  {
   "cell_type": "code",
   "execution_count": 43,
   "id": "6b68a360",
   "metadata": {},
   "outputs": [
    {
     "name": "stdout",
     "output_type": "stream",
     "text": [
      "Predicted value: 9\n"
     ]
    }
   ],
   "source": [
    "model.eval()\n",
    "with torch.no_grad():\n",
    "    new_pred = model(test_data[x][0].view(1,1,28,28)).argmax()\n",
    "print(\"Predicted value:\",new_pred.item())"
   ]
  },
  {
   "cell_type": "code",
   "execution_count": null,
   "id": "f451c0e3",
   "metadata": {},
   "outputs": [],
   "source": []
  }
 ],
 "metadata": {
  "kernelspec": {
   "display_name": "Python 3 (ipykernel)",
   "language": "python",
   "name": "python3"
  },
  "language_info": {
   "codemirror_mode": {
    "name": "ipython",
    "version": 3
   },
   "file_extension": ".py",
   "mimetype": "text/x-python",
   "name": "python",
   "nbconvert_exporter": "python",
   "pygments_lexer": "ipython3",
   "version": "3.8.0"
  }
 },
 "nbformat": 4,
 "nbformat_minor": 5
}
